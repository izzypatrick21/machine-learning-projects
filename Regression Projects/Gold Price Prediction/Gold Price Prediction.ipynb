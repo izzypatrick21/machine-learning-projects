{
 "cells": [
  {
   "cell_type": "markdown",
   "id": "1e17c822",
   "metadata": {},
   "source": [
    "# Project: Gold Price Prediction"
   ]
  },
  {
   "cell_type": "markdown",
   "id": "491cd5fa",
   "metadata": {},
   "source": [
    "Intro: This is a kaggle project and the dataset was gotten from https://www.kaggle.com/altruistdelhite04/gold-price-data.\n",
    "        The aim of this project is to predict the price of gold on a given date, given the price and state of other currency or commodities."
   ]
  },
  {
   "cell_type": "markdown",
   "id": "9ade9418",
   "metadata": {},
   "source": [
    "# Importing Dependencies"
   ]
  },
  {
   "cell_type": "code",
   "execution_count": 1,
   "id": "a07f8319",
   "metadata": {},
   "outputs": [],
   "source": [
    "import pandas as pd\n",
    "import numpy as np\n",
    "import matplotlib.pyplot as plt\n",
    "import seaborn as sns\n",
    "from sklearn.preprocessing import StandardScaler, LabelEncoder\n",
    "from sklearn.model_selection import train_test_split\n",
    "from sklearn.linear_model import Lasso\n",
    "from sklearn.ensemble import RandomForestRegressor\n",
    "from sklearn.metrics import r2_score, mean_absolute_error"
   ]
  },
  {
   "cell_type": "markdown",
   "id": "859e633d",
   "metadata": {},
   "source": [
    "# Data Inport and Inspection"
   ]
  },
  {
   "cell_type": "code",
   "execution_count": 2,
   "id": "baca9a7b",
   "metadata": {},
   "outputs": [],
   "source": [
    "gold_data = pd.read_csv(\"gld_price_data.csv\", parse_dates=[\"Date\"])"
   ]
  },
  {
   "cell_type": "code",
   "execution_count": 3,
   "id": "d0ea91c6",
   "metadata": {},
   "outputs": [
    {
     "data": {
      "text/html": [
       "<div>\n",
       "<style scoped>\n",
       "    .dataframe tbody tr th:only-of-type {\n",
       "        vertical-align: middle;\n",
       "    }\n",
       "\n",
       "    .dataframe tbody tr th {\n",
       "        vertical-align: top;\n",
       "    }\n",
       "\n",
       "    .dataframe thead th {\n",
       "        text-align: right;\n",
       "    }\n",
       "</style>\n",
       "<table border=\"1\" class=\"dataframe\">\n",
       "  <thead>\n",
       "    <tr style=\"text-align: right;\">\n",
       "      <th></th>\n",
       "      <th>Date</th>\n",
       "      <th>SPX</th>\n",
       "      <th>GLD</th>\n",
       "      <th>USO</th>\n",
       "      <th>SLV</th>\n",
       "      <th>EUR/USD</th>\n",
       "    </tr>\n",
       "  </thead>\n",
       "  <tbody>\n",
       "    <tr>\n",
       "      <th>0</th>\n",
       "      <td>2008-01-02</td>\n",
       "      <td>1447.160034</td>\n",
       "      <td>84.860001</td>\n",
       "      <td>78.470001</td>\n",
       "      <td>15.180</td>\n",
       "      <td>1.471692</td>\n",
       "    </tr>\n",
       "    <tr>\n",
       "      <th>1</th>\n",
       "      <td>2008-01-03</td>\n",
       "      <td>1447.160034</td>\n",
       "      <td>85.570000</td>\n",
       "      <td>78.370003</td>\n",
       "      <td>15.285</td>\n",
       "      <td>1.474491</td>\n",
       "    </tr>\n",
       "    <tr>\n",
       "      <th>2</th>\n",
       "      <td>2008-01-04</td>\n",
       "      <td>1411.630005</td>\n",
       "      <td>85.129997</td>\n",
       "      <td>77.309998</td>\n",
       "      <td>15.167</td>\n",
       "      <td>1.475492</td>\n",
       "    </tr>\n",
       "    <tr>\n",
       "      <th>3</th>\n",
       "      <td>2008-01-07</td>\n",
       "      <td>1416.180054</td>\n",
       "      <td>84.769997</td>\n",
       "      <td>75.500000</td>\n",
       "      <td>15.053</td>\n",
       "      <td>1.468299</td>\n",
       "    </tr>\n",
       "    <tr>\n",
       "      <th>4</th>\n",
       "      <td>2008-01-08</td>\n",
       "      <td>1390.189941</td>\n",
       "      <td>86.779999</td>\n",
       "      <td>76.059998</td>\n",
       "      <td>15.590</td>\n",
       "      <td>1.557099</td>\n",
       "    </tr>\n",
       "  </tbody>\n",
       "</table>\n",
       "</div>"
      ],
      "text/plain": [
       "        Date          SPX        GLD        USO     SLV   EUR/USD\n",
       "0 2008-01-02  1447.160034  84.860001  78.470001  15.180  1.471692\n",
       "1 2008-01-03  1447.160034  85.570000  78.370003  15.285  1.474491\n",
       "2 2008-01-04  1411.630005  85.129997  77.309998  15.167  1.475492\n",
       "3 2008-01-07  1416.180054  84.769997  75.500000  15.053  1.468299\n",
       "4 2008-01-08  1390.189941  86.779999  76.059998  15.590  1.557099"
      ]
     },
     "execution_count": 3,
     "metadata": {},
     "output_type": "execute_result"
    }
   ],
   "source": [
    "gold_data.head()"
   ]
  },
  {
   "cell_type": "code",
   "execution_count": 4,
   "id": "6b0bac77",
   "metadata": {},
   "outputs": [
    {
     "data": {
      "text/plain": [
       "(2290, 6)"
      ]
     },
     "execution_count": 4,
     "metadata": {},
     "output_type": "execute_result"
    }
   ],
   "source": [
    "gold_data.shape\n"
   ]
  },
  {
   "cell_type": "code",
   "execution_count": 5,
   "id": "d29c74d5",
   "metadata": {},
   "outputs": [
    {
     "name": "stdout",
     "output_type": "stream",
     "text": [
      "<class 'pandas.core.frame.DataFrame'>\n",
      "RangeIndex: 2290 entries, 0 to 2289\n",
      "Data columns (total 6 columns):\n",
      " #   Column   Non-Null Count  Dtype         \n",
      "---  ------   --------------  -----         \n",
      " 0   Date     2290 non-null   datetime64[ns]\n",
      " 1   SPX      2290 non-null   float64       \n",
      " 2   GLD      2290 non-null   float64       \n",
      " 3   USO      2290 non-null   float64       \n",
      " 4   SLV      2290 non-null   float64       \n",
      " 5   EUR/USD  2290 non-null   float64       \n",
      "dtypes: datetime64[ns](1), float64(5)\n",
      "memory usage: 107.5 KB\n"
     ]
    }
   ],
   "source": [
    "gold_data.info()"
   ]
  },
  {
   "cell_type": "code",
   "execution_count": 6,
   "id": "9c0e9fa9",
   "metadata": {},
   "outputs": [
    {
     "data": {
      "text/plain": [
       "Date       0\n",
       "SPX        0\n",
       "GLD        0\n",
       "USO        0\n",
       "SLV        0\n",
       "EUR/USD    0\n",
       "dtype: int64"
      ]
     },
     "execution_count": 6,
     "metadata": {},
     "output_type": "execute_result"
    }
   ],
   "source": [
    "gold_data.isnull().sum()"
   ]
  },
  {
   "cell_type": "markdown",
   "id": "9baa5d57",
   "metadata": {},
   "source": [
    "# Data Preprocessing"
   ]
  },
  {
   "cell_type": "code",
   "execution_count": 7,
   "id": "1e0a2391",
   "metadata": {},
   "outputs": [],
   "source": [
    "#Data cleaning, feature scaling and encoding etc"
   ]
  },
  {
   "cell_type": "markdown",
   "id": "48ad276a",
   "metadata": {},
   "source": [
    "# Data Analysis"
   ]
  },
  {
   "cell_type": "code",
   "execution_count": 8,
   "id": "c5d4893d",
   "metadata": {},
   "outputs": [],
   "source": [
    "corr = gold_data.corr()"
   ]
  },
  {
   "cell_type": "code",
   "execution_count": 9,
   "id": "ab44df1e",
   "metadata": {},
   "outputs": [
    {
     "data": {
      "text/plain": [
       "<AxesSubplot:>"
      ]
     },
     "execution_count": 9,
     "metadata": {},
     "output_type": "execute_result"
    },
    {
     "data": {
      "image/png": "[encoded data removed]",
      "text/plain": [
       "<Figure size 576x432 with 2 Axes>"
      ]
     },
     "metadata": {
      "needs_background": "light"
     },
     "output_type": "display_data"
    }
   ],
   "source": [
    "plt.figure(figsize = (8,6))\n",
    "sns.heatmap(corr, annot=True, cbar=True,fmt=\"0.1f\", cmap=\"Greens\")"
   ]
  },
  {
   "cell_type": "code",
   "execution_count": 10,
   "id": "354ba134",
   "metadata": {},
   "outputs": [
    {
     "data": {
      "text/plain": [
       "Text(0.5, 1.0, 'Commodity Prices')"
      ]
     },
     "execution_count": 10,
     "metadata": {},
     "output_type": "execute_result"
    },
    {
     "data": {
      "image/png": "[encoded data removed]",
      "text/plain": [
       "<Figure size 432x288 with 1 Axes>"
      ]
     },
     "metadata": {
      "needs_background": "light"
     },
     "output_type": "display_data"
    }
   ],
   "source": [
    "\n",
    "gold_data.plot(\"Date\",[\"EUR/USD\", \"GLD\",\"USO\", \"SLV\"], grid=True)\n",
    "plt.ylabel(\"Price\")\n",
    "plt.title(\"Commodity Prices\")"
   ]
  },
  {
   "cell_type": "code",
   "execution_count": 11,
   "id": "6f15d60f",
   "metadata": {},
   "outputs": [
    {
     "name": "stderr",
     "output_type": "stream",
     "text": [
      "/opt/anaconda3/lib/python3.8/site-packages/seaborn/distributions.py:2557: FutureWarning: `distplot` is a deprecated function and will be removed in a future version. Please adapt your code to use either `displot` (a figure-level function with similar flexibility) or `histplot` (an axes-level function for histograms).\n",
      "  warnings.warn(msg, FutureWarning)\n"
     ]
    },
    {
     "data": {
      "text/plain": [
       "<AxesSubplot:xlabel='GLD', ylabel='Density'>"
      ]
     },
     "execution_count": 11,
     "metadata": {},
     "output_type": "execute_result"
    },
    {
     "data": {
      "image/png": "[encoded data removed]",
      "text/plain": [
       "<Figure size 432x288 with 1 Axes>"
      ]
     },
     "metadata": {
      "needs_background": "light"
     },
     "output_type": "display_data"
    }
   ],
   "source": [
    "sns.distplot(gold_data[\"GLD\"], color=\"green\")"
   ]
  },
  {
   "cell_type": "markdown",
   "id": "62629eb0",
   "metadata": {},
   "source": [
    "# Train Test Split"
   ]
  },
  {
   "cell_type": "code",
   "execution_count": 12,
   "id": "a95f9ebc",
   "metadata": {},
   "outputs": [],
   "source": [
    "X = gold_data.drop(columns = [\"Date\", \"GLD\"])\n",
    "Y = gold_data[\"GLD\"]"
   ]
  },
  {
   "cell_type": "code",
   "execution_count": 13,
   "id": "a769fe4a",
   "metadata": {},
   "outputs": [
    {
     "data": {
      "text/html": [
       "<div>\n",
       "<style scoped>\n",
       "    .dataframe tbody tr th:only-of-type {\n",
       "        vertical-align: middle;\n",
       "    }\n",
       "\n",
       "    .dataframe tbody tr th {\n",
       "        vertical-align: top;\n",
       "    }\n",
       "\n",
       "    .dataframe thead th {\n",
       "        text-align: right;\n",
       "    }\n",
       "</style>\n",
       "<table border=\"1\" class=\"dataframe\">\n",
       "  <thead>\n",
       "    <tr style=\"text-align: right;\">\n",
       "      <th></th>\n",
       "      <th>SPX</th>\n",
       "      <th>USO</th>\n",
       "      <th>SLV</th>\n",
       "      <th>EUR/USD</th>\n",
       "    </tr>\n",
       "  </thead>\n",
       "  <tbody>\n",
       "    <tr>\n",
       "      <th>0</th>\n",
       "      <td>1447.160034</td>\n",
       "      <td>78.470001</td>\n",
       "      <td>15.1800</td>\n",
       "      <td>1.471692</td>\n",
       "    </tr>\n",
       "    <tr>\n",
       "      <th>1</th>\n",
       "      <td>1447.160034</td>\n",
       "      <td>78.370003</td>\n",
       "      <td>15.2850</td>\n",
       "      <td>1.474491</td>\n",
       "    </tr>\n",
       "    <tr>\n",
       "      <th>2</th>\n",
       "      <td>1411.630005</td>\n",
       "      <td>77.309998</td>\n",
       "      <td>15.1670</td>\n",
       "      <td>1.475492</td>\n",
       "    </tr>\n",
       "    <tr>\n",
       "      <th>3</th>\n",
       "      <td>1416.180054</td>\n",
       "      <td>75.500000</td>\n",
       "      <td>15.0530</td>\n",
       "      <td>1.468299</td>\n",
       "    </tr>\n",
       "    <tr>\n",
       "      <th>4</th>\n",
       "      <td>1390.189941</td>\n",
       "      <td>76.059998</td>\n",
       "      <td>15.5900</td>\n",
       "      <td>1.557099</td>\n",
       "    </tr>\n",
       "    <tr>\n",
       "      <th>...</th>\n",
       "      <td>...</td>\n",
       "      <td>...</td>\n",
       "      <td>...</td>\n",
       "      <td>...</td>\n",
       "    </tr>\n",
       "    <tr>\n",
       "      <th>2285</th>\n",
       "      <td>2671.919922</td>\n",
       "      <td>14.060000</td>\n",
       "      <td>15.5100</td>\n",
       "      <td>1.186789</td>\n",
       "    </tr>\n",
       "    <tr>\n",
       "      <th>2286</th>\n",
       "      <td>2697.790039</td>\n",
       "      <td>14.370000</td>\n",
       "      <td>15.5300</td>\n",
       "      <td>1.184722</td>\n",
       "    </tr>\n",
       "    <tr>\n",
       "      <th>2287</th>\n",
       "      <td>2723.070068</td>\n",
       "      <td>14.410000</td>\n",
       "      <td>15.7400</td>\n",
       "      <td>1.191753</td>\n",
       "    </tr>\n",
       "    <tr>\n",
       "      <th>2288</th>\n",
       "      <td>2730.129883</td>\n",
       "      <td>14.380000</td>\n",
       "      <td>15.5600</td>\n",
       "      <td>1.193118</td>\n",
       "    </tr>\n",
       "    <tr>\n",
       "      <th>2289</th>\n",
       "      <td>2725.780029</td>\n",
       "      <td>14.405800</td>\n",
       "      <td>15.4542</td>\n",
       "      <td>1.182033</td>\n",
       "    </tr>\n",
       "  </tbody>\n",
       "</table>\n",
       "<p>2290 rows × 4 columns</p>\n",
       "</div>"
      ],
      "text/plain": [
       "              SPX        USO      SLV   EUR/USD\n",
       "0     1447.160034  78.470001  15.1800  1.471692\n",
       "1     1447.160034  78.370003  15.2850  1.474491\n",
       "2     1411.630005  77.309998  15.1670  1.475492\n",
       "3     1416.180054  75.500000  15.0530  1.468299\n",
       "4     1390.189941  76.059998  15.5900  1.557099\n",
       "...           ...        ...      ...       ...\n",
       "2285  2671.919922  14.060000  15.5100  1.186789\n",
       "2286  2697.790039  14.370000  15.5300  1.184722\n",
       "2287  2723.070068  14.410000  15.7400  1.191753\n",
       "2288  2730.129883  14.380000  15.5600  1.193118\n",
       "2289  2725.780029  14.405800  15.4542  1.182033\n",
       "\n",
       "[2290 rows x 4 columns]"
      ]
     },
     "execution_count": 13,
     "metadata": {},
     "output_type": "execute_result"
    }
   ],
   "source": [
    "X"
   ]
  },
  {
   "cell_type": "code",
   "execution_count": 14,
   "id": "b27ca97c",
   "metadata": {},
   "outputs": [
    {
     "data": {
      "text/plain": [
       "0        84.860001\n",
       "1        85.570000\n",
       "2        85.129997\n",
       "3        84.769997\n",
       "4        86.779999\n",
       "           ...    \n",
       "2285    124.589996\n",
       "2286    124.330002\n",
       "2287    125.180000\n",
       "2288    124.489998\n",
       "2289    122.543800\n",
       "Name: GLD, Length: 2290, dtype: float64"
      ]
     },
     "execution_count": 14,
     "metadata": {},
     "output_type": "execute_result"
    }
   ],
   "source": [
    "Y"
   ]
  },
  {
   "cell_type": "code",
   "execution_count": 15,
   "id": "3af55cb2",
   "metadata": {},
   "outputs": [],
   "source": [
    "X_train, X_test, Y_train, Y_test = train_test_split(X, Y, test_size = 0.25, random_state=3)"
   ]
  },
  {
   "cell_type": "markdown",
   "id": "17362abe",
   "metadata": {},
   "source": [
    "# Standardization & Model Selection"
   ]
  },
  {
   "cell_type": "code",
   "execution_count": 16,
   "id": "d2837fa5",
   "metadata": {},
   "outputs": [],
   "source": [
    "rf_model = RandomForestRegressor()"
   ]
  },
  {
   "cell_type": "code",
   "execution_count": 26,
   "id": "d2dcc032",
   "metadata": {},
   "outputs": [],
   "source": [
    "#we may choose to standardize the X_train and X_test\n",
    "#scaler = StandardScaler()\n",
    "#X_train = scaler.fit_transform(X_train)\n",
    "\n",
    "#X_test = scaler.fit_transform(X_test)"
   ]
  },
  {
   "cell_type": "code",
   "execution_count": 17,
   "id": "8a87ef6a",
   "metadata": {},
   "outputs": [
    {
     "data": {
      "text/plain": [
       "RandomForestRegressor()"
      ]
     },
     "execution_count": 17,
     "metadata": {},
     "output_type": "execute_result"
    }
   ],
   "source": [
    "rf_model.fit(X_train, Y_train)"
   ]
  },
  {
   "cell_type": "markdown",
   "id": "44543263",
   "metadata": {},
   "source": [
    "# Model Evaluation on Test Data"
   ]
  },
  {
   "cell_type": "code",
   "execution_count": 18,
   "id": "5df21561",
   "metadata": {},
   "outputs": [],
   "source": [
    "y_test_predicted = rf_model.predict(X_test)"
   ]
  },
  {
   "cell_type": "code",
   "execution_count": 19,
   "id": "88ddd471",
   "metadata": {},
   "outputs": [
    {
     "data": {
      "text/plain": [
       "array([163.88359966, 127.3218992 , 124.04369978, 119.60889898,\n",
       "       126.07589936,  86.19249806, 171.82830198, 135.18780017,\n",
       "       107.14300111, 132.78120207, 120.75039909, 124.76510055,\n",
       "       143.46889839, 104.51079968,  80.72979898, 119.86639996,\n",
       "       140.05749975,  90.69800067,  91.3887993 , 128.17470163,\n",
       "       125.45560023, 147.68569928, 116.58990155, 152.91899872,\n",
       "       129.27569919, 129.44940006, 118.13590095, 111.46290029,\n",
       "       168.94550143, 157.42789809, 125.88600198, 154.2823006 ,\n",
       "       126.92649982, 122.68909805, 117.03560091, 154.71319981,\n",
       "       114.93410018, 120.50500158, 104.001102  , 106.43960034,\n",
       "       135.01409882,  85.89859976, 157.45570148, 121.24279991,\n",
       "       122.44530111, 155.62370024, 120.8389001 , 116.39650023,\n",
       "       168.06980262, 116.75750074, 138.40360287, 161.99699841,\n",
       "       158.43000078, 153.17770107, 123.86860042, 117.29350055,\n",
       "       167.33049979, 117.23919982, 165.69150027,  84.43159987,\n",
       "       121.37439907, 122.26200018, 120.11499992, 172.04579881,\n",
       "       119.26399958, 181.01799471, 162.05870333, 139.36520292,\n",
       "       115.8442005 ,  92.64640082, 171.93199998, 117.82359982,\n",
       "       117.40919884, 125.57980009, 146.78589996,  91.4956013 ,\n",
       "        83.80909896,  88.58119998, 102.71999915, 124.31420027,\n",
       "       123.23440072, 169.31960173, 120.75669974, 125.88529945,\n",
       "       160.45830578, 120.47940089, 169.86090135, 148.02299699,\n",
       "        87.07309948, 126.72230052, 118.89490043,  90.05470005,\n",
       "       118.21480017, 116.70399828,  89.11539909, 137.70950158,\n",
       "       159.95489966, 131.09050432, 105.44980162, 122.56979966,\n",
       "       120.20659995, 123.81800118, 108.06629987, 115.4599013 ,\n",
       "       112.99379954, 120.80260127, 158.95650217, 126.70579942,\n",
       "       120.02419933,  91.17889958, 125.19789938, 161.48879807,\n",
       "       159.50140216,  87.58309912, 139.99500142, 167.27739845,\n",
       "       155.05030069, 109.27950084, 108.91559831, 124.78149992,\n",
       "       113.78300189, 117.31560038, 160.45960203, 121.84630014,\n",
       "       143.78289694, 117.21680051, 164.44420244, 119.85019952,\n",
       "       112.37040088, 148.20519942, 104.26219921, 121.80349941,\n",
       "        77.93960004, 160.85709758, 126.21070116, 132.13820014,\n",
       "       120.09879991, 107.58459975, 153.14410053, 114.63030036,\n",
       "       162.4644005 , 128.07210108,  91.83210132, 121.16069975,\n",
       "       130.12129934,  89.7264999 , 120.43829968, 120.41510072,\n",
       "       112.81360076,  90.8734004 ,  91.11039887, 117.23540025,\n",
       "       150.65700032, 113.00690026, 132.57670121, 117.42480133,\n",
       "       119.28780022, 156.48119901, 127.93690321, 113.22100147,\n",
       "       119.88360044, 141.94619895, 116.16870115,  92.26829874,\n",
       "        89.67130035, 166.5568024 , 112.28830011, 115.56630054,\n",
       "       119.86640133, 114.65840008,  91.95269934, 117.36199894,\n",
       "       154.59230132, 151.60270112,  93.14389975, 125.77410053,\n",
       "       104.36979984, 155.68700083, 115.52630053, 120.13719839,\n",
       "        91.91229915,  91.76950058, 153.33480188, 173.29629766,\n",
       "        78.92529943, 125.75360022, 119.1140999 , 150.89780075,\n",
       "        92.0251006 , 164.3780009 , 138.22509771, 117.63340088,\n",
       "       139.18390033,  81.53929904, 124.7444992 , 118.79500086,\n",
       "        90.92670086,  94.00609986, 173.37399733, 164.73820142,\n",
       "       167.14660047, 140.43720129, 118.3774006 , 131.1071008 ,\n",
       "       124.36020073, 129.22109962, 121.55860057, 121.97669897,\n",
       "       127.23510064, 103.42950052, 115.61170091, 133.07589977,\n",
       "       163.83380164, 125.61830018, 113.53900214, 123.05420045,\n",
       "        83.46440072, 102.78729877, 121.33799867, 163.41360179,\n",
       "       121.30109979,  87.24960077, 127.33880083, 107.84370004,\n",
       "       158.02590157, 164.26469989, 124.23760002, 124.5889004 ,\n",
       "       146.25149828,  90.29439975,  88.22250058, 115.71290077,\n",
       "       108.35320059, 128.48849896, 108.3993    , 114.78320011,\n",
       "       167.50869861, 119.47620007, 106.85969929, 158.51229885,\n",
       "       124.82189908, 114.3695011 , 103.22460027, 149.85799858,\n",
       "       166.20509883, 171.40380289,  92.27199918, 114.57250028,\n",
       "       119.01189955, 113.472401  , 160.11560467, 120.22319932,\n",
       "        72.99470208, 119.02549971, 115.41140051, 167.20839827,\n",
       "       118.40670025, 114.47249955,  94.13799931, 116.81290155,\n",
       "       128.09319823, 114.25499984, 156.19290058, 119.24040028,\n",
       "       118.51720157, 161.3535008 , 118.4594003 ,  95.10429908,\n",
       "       117.75150101, 166.83350157, 111.25399869, 146.81460218,\n",
       "       118.84500061,  86.81249894, 171.29160191, 153.42579809,\n",
       "       163.14260137,  84.65729814, 119.7331004 , 108.25890038,\n",
       "        92.86050051,  72.36259965,  92.72529991, 117.61100033,\n",
       "       176.69199918, 116.19970108, 123.43999956,  86.85689875,\n",
       "       113.42780051, 111.81330054, 162.8863048 , 118.55750113,\n",
       "        87.333698  , 169.82369814, 125.16890018, 125.8811999 ,\n",
       "       121.39730027, 116.44260074,  90.1599997 , 146.42090013,\n",
       "       108.74379922,  91.60339822, 117.97980007, 152.68420242,\n",
       "       123.04949961, 142.87159817, 148.10670201, 108.12669973,\n",
       "       129.06580222, 111.97739997, 114.12860055, 115.28180037,\n",
       "       156.64859864,  83.7749987 , 122.2881001 ,  91.78569978,\n",
       "       113.65129945, 127.40249733,  92.7890003 , 129.57370111,\n",
       "       124.49039897, 127.95009822, 121.66709921,  90.14039979,\n",
       "        87.10269829, 136.3959992 , 166.88830067, 169.91529923,\n",
       "       159.93720369, 124.11559974, 106.71350004, 116.07210039,\n",
       "       124.68049931,  91.69059927, 167.00869823,  91.51139882,\n",
       "       128.25380102, 117.47210093, 166.07719872, 115.30660028,\n",
       "       163.60860181, 170.08119782,  84.43029975, 117.3622003 ,\n",
       "       101.90689866, 131.82200172, 112.71389973,  80.07509936,\n",
       "        92.5946004 , 135.87839999,  98.28319994, 117.10149892,\n",
       "       116.77710126, 119.20460018, 126.32570059, 115.05060033,\n",
       "        97.21190136,  73.26289909, 118.1190001 ,  89.47960118,\n",
       "       135.48729869, 113.46789976, 115.0454997 , 110.51740125,\n",
       "        86.2062986 , 113.3540007 , 126.42450095, 156.51149831,\n",
       "       119.96719982,  77.36100029, 113.45400037,  87.0751979 ,\n",
       "       113.96430023,  96.41600218, 115.8748002 , 125.38049933,\n",
       "       113.96530042, 117.09749893, 118.45510049, 125.56939884,\n",
       "       111.883402  , 109.80610072, 165.26150301,  96.096599  ,\n",
       "       121.35170159,  91.96300104, 116.10540091, 110.8977992 ,\n",
       "       155.86960336, 117.44699946, 154.03600038,  86.50969871,\n",
       "       142.13769857, 110.07979928, 106.42389993, 127.96699813,\n",
       "       118.87369954, 120.12430043, 117.84390077, 148.72320121,\n",
       "       109.4171988 , 135.60390122, 158.07319976, 106.9402993 ,\n",
       "       102.57709975, 168.63609811, 120.00210091, 141.01780238,\n",
       "       104.11789919,  93.98179922, 113.6859011 , 123.52940099,\n",
       "       109.60629875, 167.97980128, 171.08510157, 117.63689971,\n",
       "       169.06869716, 126.09000106, 161.08260537,  95.70989961,\n",
       "        99.23749936, 125.57959999,  73.03160059,  88.68439967,\n",
       "        93.88100075, 148.66369728, 113.99050121, 107.91219915,\n",
       "       122.98689882,  88.96789953, 148.89160076,  93.60949784,\n",
       "        86.08579893, 106.81180087,  74.21609988, 134.21899903,\n",
       "       167.30660153, 117.76909934, 117.7154991 ,  96.36680153,\n",
       "       126.06720011, 127.86250031, 114.06019984, 126.75810005,\n",
       "       127.71869876, 115.82320112,  95.67439949, 123.19949966,\n",
       "       126.16970041,  89.86570116, 133.61010078, 118.65290043,\n",
       "       115.9852982 , 145.35989886,  94.24990133, 116.57669957,\n",
       "        87.88430004, 119.76090002, 115.45330065, 121.38509959,\n",
       "       152.98399918, 126.9969011 , 120.61800022, 109.6320008 ,\n",
       "        74.02400082,  86.61689959, 125.65620024, 125.52109976,\n",
       "       127.74849964, 115.64640112, 120.32370037,  92.7135002 ,\n",
       "       117.65249936, 111.67900015, 106.96519988, 123.17800083,\n",
       "       118.45040065, 125.48330038, 107.49929958, 122.41169929,\n",
       "       109.96039796, 107.4888997 , 116.43360134, 154.57050162,\n",
       "       134.10539981, 126.21490097, 124.20029925,  87.79100025,\n",
       "       127.84999784,  92.23629991, 145.61580127, 114.14970002,\n",
       "       130.02830111, 109.05629948,  81.41699929, 113.38180141,\n",
       "       131.41770095, 117.92889943, 107.39590082,  92.72039894,\n",
       "       158.33529955, 160.95069855,  91.72619907, 117.21379887,\n",
       "        83.6974006 , 156.90900346, 112.40030067, 167.05019463,\n",
       "       126.6437987 , 135.98410006, 126.66610089, 126.90920076,\n",
       "       107.82110161, 125.19470004, 132.89170051, 127.41080054,\n",
       "       140.34530358, 100.04650141, 125.1734005 , 110.86410097,\n",
       "       173.7458979 , 113.57850097, 113.90860054, 104.11589845,\n",
       "       119.88820084, 135.4313982 , 124.43600103, 122.99249887,\n",
       "       101.9045008 , 121.73110137, 103.65470013, 123.07799869,\n",
       "       126.32669827, 118.01889949, 114.56069995, 127.00540003,\n",
       "       154.57650075, 131.61540281, 176.48309631, 115.21740162,\n",
       "       112.33909993, 127.4850996 , 115.92060011, 117.10690102,\n",
       "       128.51210058, 117.93400071, 115.33040028, 113.31729885,\n",
       "       107.66210013, 126.02289866,  91.21270067,  94.76030065,\n",
       "       108.84999925, 121.31220008,  86.81239959, 120.60560121,\n",
       "       126.34739962, 163.77680167, 108.83019901, 129.09089875,\n",
       "       159.88359911, 142.11329978, 125.01000079, 119.76920025,\n",
       "       100.10540127, 109.05909889,  91.40520175, 117.76900042,\n",
       "       106.57540001, 109.67579865,  91.79539968, 122.31589987,\n",
       "       101.92909843])"
      ]
     },
     "execution_count": 19,
     "metadata": {},
     "output_type": "execute_result"
    }
   ],
   "source": [
    "y_test_predicted"
   ]
  },
  {
   "cell_type": "code",
   "execution_count": 20,
   "id": "623878b5",
   "metadata": {},
   "outputs": [
    {
     "data": {
      "text/plain": [
       "(573,)"
      ]
     },
     "execution_count": 20,
     "metadata": {},
     "output_type": "execute_result"
    }
   ],
   "source": [
    "y_test_predicted.shape"
   ]
  },
  {
   "cell_type": "code",
   "execution_count": 21,
   "id": "5719acd7",
   "metadata": {},
   "outputs": [
    {
     "data": {
      "text/plain": [
       "863     161.990005\n",
       "1351    127.580002\n",
       "2284    124.570000\n",
       "533     118.970001\n",
       "2247    125.720001\n",
       "           ...    \n",
       "400     109.739998\n",
       "475     110.809998\n",
       "297      90.959999\n",
       "2118    122.209999\n",
       "1763    101.459999\n",
       "Name: GLD, Length: 573, dtype: float64"
      ]
     },
     "execution_count": 21,
     "metadata": {},
     "output_type": "execute_result"
    }
   ],
   "source": [
    "Y_test"
   ]
  },
  {
   "cell_type": "code",
   "execution_count": 22,
   "id": "b622060d",
   "metadata": {},
   "outputs": [
    {
     "data": {
      "text/plain": [
       "(573, 4)"
      ]
     },
     "execution_count": 22,
     "metadata": {},
     "output_type": "execute_result"
    }
   ],
   "source": [
    "X_test.shape"
   ]
  },
  {
   "cell_type": "code",
   "execution_count": 23,
   "id": "89152121",
   "metadata": {},
   "outputs": [
    {
     "data": {
      "text/plain": [
       "0.9864538301537843"
      ]
     },
     "execution_count": 23,
     "metadata": {},
     "output_type": "execute_result"
    }
   ],
   "source": [
    "#Root mean square error\n",
    "r2_error = r2_score(Y_test, y_test_predicted)\n",
    "r2_error"
   ]
  },
  {
   "cell_type": "markdown",
   "id": "af93becd",
   "metadata": {},
   "source": [
    "# Actual vs Prediction Plotting"
   ]
  },
  {
   "cell_type": "code",
   "execution_count": 24,
   "id": "233f217c",
   "metadata": {},
   "outputs": [
    {
     "data": {
      "text/plain": [
       "<matplotlib.collections.PathCollection at 0x7f7fb89416a0>"
      ]
     },
     "execution_count": 24,
     "metadata": {},
     "output_type": "execute_result"
    },
    {
     "data": {
      "image/png": "[encoded data removed]",
      "text/plain": [
       "<Figure size 432x288 with 1 Axes>"
      ]
     },
     "metadata": {
      "needs_background": "light"
     },
     "output_type": "display_data"
    }
   ],
   "source": [
    "plt.scatter(Y_test, y_test_predicted)\n"
   ]
  },
  {
   "cell_type": "code",
   "execution_count": 25,
   "id": "847e6a6a",
   "metadata": {},
   "outputs": [
    {
     "data": {
      "image/png": "[encoded data removed]",
      "text/plain": [
       "<Figure size 432x288 with 1 Axes>"
      ]
     },
     "metadata": {
      "needs_background": "light"
     },
     "output_type": "display_data"
    }
   ],
   "source": [
    "Y_test = list(Y_test)\n",
    "\n",
    "plt.plot(y_test_predicted, color='green', label='Predicted Value')\n",
    "plt.plot(Y_test, color='blue', label='Predicted Value')\n",
    "plt.title(\"Actual Price vs Predicted Price\")\n",
    "plt.xlabel(\"Number of Values\")\n",
    "plt.ylabel(\"GLD Price\")\n",
    "plt.legend()\n",
    "plt.show()"
   ]
  },
  {
   "cell_type": "markdown",
   "id": "0a5dcacd",
   "metadata": {},
   "source": [
    "There is almost a perfect overlap between the predicted and actual test data. \n",
    "This shows that there is not much error in our model."
   ]
  }
 ],
 "metadata": {
  "kernelspec": {
   "display_name": "Python 3",
   "language": "python",
   "name": "python3"
  },
  "language_info": {
   "codemirror_mode": {
    "name": "ipython",
    "version": 3
   },
   "file_extension": ".py",
   "mimetype": "text/x-python",
   "name": "python",
   "nbconvert_exporter": "python",
   "pygments_lexer": "ipython3",
   "version": "3.8.8"
  }
 },
 "nbformat": 4,
 "nbformat_minor": 5
}
